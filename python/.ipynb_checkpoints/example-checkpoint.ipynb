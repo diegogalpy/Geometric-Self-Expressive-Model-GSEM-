{
 "cells": [
  {
   "cell_type": "markdown",
   "metadata": {},
   "source": [
    "# Geometric Self-Expressive Models\n",
    "\n",
    "Dependencies"
   ]
  },
  {
   "cell_type": "code",
   "execution_count": 1,
   "metadata": {},
   "outputs": [],
   "source": [
    "import numpy as np\n",
    "from random import randint\n",
    "from GSEM import GSEM"
   ]
  },
  {
   "cell_type": "markdown",
   "metadata": {},
   "source": [
    "### Example of usage"
   ]
  },
  {
   "cell_type": "code",
   "execution_count": 5,
   "metadata": {},
   "outputs": [],
   "source": [
    "# Binary data matrix of n x m\n",
    "Y = np.random.randint(2, size = (100,200))\n",
    "\n",
    "# Graph affinity about columns of Y\n",
    "F = np.random.randint(2, size = (200,200))\n",
    "\n",
    "# Model parameters -- recommended to train a grid\n",
    "l2_reg = 0.0\n",
    "l1_reg = 0.01\n",
    "alpha = 0.7 # graph regularization penalty"
   ]
  },
  {
   "cell_type": "code",
   "execution_count": 6,
   "metadata": {},
   "outputs": [
    {
     "name": "stdout",
     "output_type": "stream",
     "text": [
      "Iter 216 dw 0.0009779086140058563\n"
     ]
    }
   ],
   "source": [
    "W = GSEM(Y, F, l2_reg, l1_reg, alpha)"
   ]
  }
 ],
 "metadata": {
  "kernelspec": {
   "display_name": "Environment (conda_anaconda3)",
   "language": "python",
   "name": "conda_anaconda3"
  },
  "language_info": {
   "codemirror_mode": {
    "name": "ipython",
    "version": 3
   },
   "file_extension": ".py",
   "mimetype": "text/x-python",
   "name": "python",
   "nbconvert_exporter": "python",
   "pygments_lexer": "ipython3",
   "version": "3.8.5"
  }
 },
 "nbformat": 4,
 "nbformat_minor": 4
}
